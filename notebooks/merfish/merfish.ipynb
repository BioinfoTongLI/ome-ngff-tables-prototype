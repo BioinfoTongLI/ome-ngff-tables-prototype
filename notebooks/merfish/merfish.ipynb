{
 "cells": [
  {
   "cell_type": "code",
   "execution_count": 2,
   "id": "7b7c9742-3598-41b3-93fb-fcc43caad3a3",
   "metadata": {},
   "outputs": [
    {
     "name": "stdout",
     "output_type": "stream",
     "text": [
      "  % Total    % Received % Xferd  Average Speed   Time    Time     Time  Current\n",
      "                                 Dload  Upload   Total   Spent    Left  Speed\n",
      "100  319M  100  319M    0     0  27.7M      0  0:00:11  0:00:11 --:--:-- 28.6M\n",
      "  % Total    % Received % Xferd  Average Speed   Time    Time     Time  Current\n",
      "                                 Dload  Upload   Total   Spent    Left  Speed\n",
      "100  2524  100  2524    0     0  18125      0 --:--:-- --:--:-- --:--:-- 18158\n",
      "  % Total    % Received % Xferd  Average Speed   Time    Time     Time  Current\n",
      "                                 Dload  Upload   Total   Spent    Left  Speed\n",
      "100 1500k  100 1500k    0     0  1209k      0  0:00:01  0:00:01 --:--:-- 1210k\n",
      "  % Total    % Received % Xferd  Average Speed   Time    Time     Time  Current\n",
      "                                 Dload  Upload   Total   Spent    Left  Speed\n",
      "100  2621  100  2621    0     0  19833      0 --:--:-- --:--:-- --:--:-- 19856\n"
     ]
    }
   ],
   "source": [
    "!mkdir -p data\n",
    "!curl 'https://s3.amazonaws.com/starfish.data.spacetx/spacejam2/MERFISH_Allen_VISp/Allen_MERFISH_spots_with_anatomy.csv' > data/Allen_MERFISH_spots_with_anatomy.csv\n",
    "!curl 'https://raw.githubusercontent.com/spacetx-spacejam/data/master/gene_lists/MERFISH_genes.csv' > data/MERFISH_genes.csv\n",
    "!curl 'https://s3.amazonaws.com/starfish.data.spacetx/spacejam2/MERFISH_Allen_VISp/fixed_1001844875.csv' > data/fixed_1001844875.csv\n",
    "!curl 'https://raw.githubusercontent.com/spacetx-spacejam/data/master/annotations/Allen_MERFISH_Layers.geojson' > data/Allen_MERFISH_Layers.geojson"
   ]
  },
  {
   "cell_type": "code",
   "execution_count": 5,
   "id": "f145d1b2",
   "metadata": {},
   "outputs": [
    {
     "ename": "ModuleNotFoundError",
     "evalue": "No module named 'scanpy'",
     "output_type": "error",
     "traceback": [
      "\u001b[0;31m---------------------------------------------------------------------------\u001b[0m",
      "\u001b[0;31mModuleNotFoundError\u001b[0m                       Traceback (most recent call last)",
      "\u001b[0;32m<ipython-input-5-806aee6299dd>\u001b[0m in \u001b[0;36m<module>\u001b[0;34m\u001b[0m\n\u001b[1;32m      3\u001b[0m \u001b[0;32mimport\u001b[0m \u001b[0mnumpy\u001b[0m \u001b[0;32mas\u001b[0m \u001b[0mnp\u001b[0m\u001b[0;34m\u001b[0m\u001b[0;34m\u001b[0m\u001b[0m\n\u001b[1;32m      4\u001b[0m \u001b[0;32mimport\u001b[0m \u001b[0manndata\u001b[0m \u001b[0;32mas\u001b[0m \u001b[0mad\u001b[0m\u001b[0;34m\u001b[0m\u001b[0;34m\u001b[0m\u001b[0m\n\u001b[0;32m----> 5\u001b[0;31m \u001b[0;32mimport\u001b[0m \u001b[0mscanpy\u001b[0m \u001b[0;32mas\u001b[0m \u001b[0msc\u001b[0m\u001b[0;34m\u001b[0m\u001b[0;34m\u001b[0m\u001b[0m\n\u001b[0m\u001b[1;32m      6\u001b[0m \u001b[0;32mimport\u001b[0m \u001b[0mjson\u001b[0m\u001b[0;34m\u001b[0m\u001b[0;34m\u001b[0m\u001b[0m\n\u001b[1;32m      7\u001b[0m \u001b[0;32mimport\u001b[0m \u001b[0mmatplotlib\u001b[0m\u001b[0;34m\u001b[0m\u001b[0;34m\u001b[0m\u001b[0m\n",
      "\u001b[0;31mModuleNotFoundError\u001b[0m: No module named 'scanpy'"
     ]
    }
   ],
   "source": [
    "##\n",
    "import pandas as pd\n",
    "import numpy as np\n",
    "import anndata as ad\n",
    "import scanpy as sc\n",
    "import json\n",
    "import matplotlib\n",
    "import matplotlib.pyplot as plt\n",
    "import os\n",
    "import pathlib\n",
    "import math"
   ]
  },
  {
   "cell_type": "code",
   "execution_count": null,
   "id": "cf77118d",
   "metadata": {},
   "outputs": [],
   "source": [
    "plt.style.use(\"dark_background\")"
   ]
  },
  {
   "cell_type": "code",
   "execution_count": null,
   "id": "1e171492",
   "metadata": {
    "lines_to_next_cell": 1
   },
   "outputs": [],
   "source": [
    "##\n",
    "output_dir = 'output'\n",
    "os.makedirs(output_dir)"
   ]
  },
  {
   "cell_type": "code",
   "execution_count": null,
   "id": "b878215e",
   "metadata": {},
   "outputs": [],
   "source": [
    "##\n",
    "class BoundingBox:\n",
    "    pass"
   ]
  },
  {
   "cell_type": "code",
   "execution_count": null,
   "id": "d22c5ff8",
   "metadata": {},
   "outputs": [],
   "source": [
    "bb = BoundingBox()\n",
    "bb.x0 = 2000\n",
    "bb.x1 = 2400\n",
    "bb.y0 = 4800\n",
    "bb.y1 = 5200\n",
    "# bb.x0 = 1600\n",
    "# bb.x1 = 2900\n",
    "# bb.y0 = 5100\n",
    "# bb.y1 = 6400"
   ]
  },
  {
   "cell_type": "markdown",
   "id": "0fc1f824",
   "metadata": {},
   "source": [
    "#"
   ]
  },
  {
   "cell_type": "code",
   "execution_count": null,
   "id": "231b2787",
   "metadata": {},
   "outputs": [],
   "source": [
    "# loads point data\n",
    "df = pd.read_csv(\"data/Allen_MERFISH_spots_with_anatomy.csv\")\n",
    "plt.figure(figsize=(10, 10))\n",
    "df = df[\n",
    "    (df[\"x_um\"] > bb.x0)\n",
    "    & (df[\"x_um\"] < bb.x1)\n",
    "    & (df[\"y_um\"] > bb.y0)\n",
    "    & (df[\"y_um\"] < bb.y1)\n",
    "]\n",
    "xy = df[[\"x_um\", \"y_um\"]].to_numpy()\n",
    "a_points = ad.AnnData(obs=list(range(len(xy))))\n",
    "a_points.obsm[\"spatial\"] = xy\n",
    "a_points.obsm[\"cell_type\"] = df[\"layer\"].to_numpy()\n",
    "a_points.obs.columns = ['0']\n",
    "a_points.write_h5ad(os.path.join(output_dir, 'points.h5ad'))"
   ]
  },
  {
   "cell_type": "code",
   "execution_count": null,
   "id": "682c293a",
   "metadata": {
    "lines_to_next_cell": 1
   },
   "outputs": [],
   "source": [
    "##\n",
    "plt.figure()\n",
    "plt.scatter(xy[:, 0], xy[:, 1], s=1)\n",
    "plt.gca().set_aspect(\"equal\")\n",
    "plt.show()"
   ]
  },
  {
   "cell_type": "code",
   "execution_count": null,
   "id": "536bfc01",
   "metadata": {},
   "outputs": [],
   "source": [
    "##\n",
    "def plot_single_molecule_anndata(adata: ad.AnnData, ax=None):\n",
    "    xy = adata.obsm[\"spatial\"]\n",
    "    c = adata.obsm[\"cell_type\"]\n",
    "    if ax is None:\n",
    "        plt.figure(figsize=(10, 10))\n",
    "        cax = plt.gca()\n",
    "    else:\n",
    "        cax = ax\n",
    "    all_types = list(set(c))\n",
    "    cax.scatter(xy[:, 0], xy[:, 1], s=1, c=[all_types.index(cc) for cc in c])\n",
    "    cax.set_aspect(\"equal\")\n",
    "    if ax is None:\n",
    "        plt.show()"
   ]
  },
  {
   "cell_type": "code",
   "execution_count": null,
   "id": "54240607",
   "metadata": {},
   "outputs": [],
   "source": [
    "plot_single_molecule_anndata(a_points)"
   ]
  },
  {
   "cell_type": "code",
   "execution_count": null,
   "id": "0045bd56",
   "metadata": {},
   "outputs": [],
   "source": [
    "##\n",
    "# loads single cell masks data\n",
    "df = pd.read_csv(\"data/fixed_1001844875.csv\")\n",
    "df.drop(columns=[df.columns[0], df.columns[1]], inplace=True)\n",
    "df[\"radius\"] = df[\"area\"].apply(lambda x: math.sqrt(x / math.pi))\n",
    "genes = df.columns.tolist()\n",
    "genes = genes[: genes.index(\"area\")]\n",
    "xy = df[[\"x_um\", \"y_um\"]].to_numpy()"
   ]
  },
  {
   "cell_type": "code",
   "execution_count": null,
   "id": "7d570b11",
   "metadata": {
    "lines_to_next_cell": 1
   },
   "outputs": [],
   "source": [
    "a_cells = ad.AnnData(X=df[genes])\n",
    "a_cells.obsm[\"spatial\"] = xy\n",
    "a_cells.obsm[\"region_radius\"] = df[\"radius\"].to_numpy()\n",
    "a_cells.write_h5ad(os.path.join(output_dir, 'cells.h5ad'))"
   ]
  },
  {
   "cell_type": "code",
   "execution_count": null,
   "id": "8ab22e78",
   "metadata": {},
   "outputs": [],
   "source": [
    "##\n",
    "def plot_shape_masks_anndata(adata: ad.AnnData, ax=None):\n",
    "    if ax is None:\n",
    "        plt.figure(figsize=(10, 10))\n",
    "        cax = plt.gca()\n",
    "    else:\n",
    "        cax = ax\n",
    "    xy = adata.obsm[\"spatial\"]\n",
    "    radius = adata.obsm[\"region_radius\"]\n",
    "    patches = []\n",
    "    for (x, y), r in zip(xy, radius):\n",
    "        if bb.x0 - r < x < bb.x1 + r and bb.y0 - r < y < bb.y1 + r:\n",
    "            patch = matplotlib.patches.Circle(\n",
    "                (x, y), r, color=np.append(np.random.rand(3), 0.3)\n",
    "            )\n",
    "            patches.append(patch)\n",
    "    p = matplotlib.collections.PatchCollection(patches, match_original=True)\n",
    "    cax.add_collection(p)\n",
    "    cax.set(xlim=(bb.x0, bb.x1), ylim=(bb.y0, bb.y1))\n",
    "    cax.set_aspect(\"equal\")\n",
    "    if ax is None:\n",
    "        plt.show()"
   ]
  },
  {
   "cell_type": "code",
   "execution_count": null,
   "id": "418ac7a0",
   "metadata": {},
   "outputs": [],
   "source": [
    "plot_shape_masks_anndata(a_cells)"
   ]
  },
  {
   "cell_type": "markdown",
   "id": "71f16931",
   "metadata": {},
   "source": [
    "#"
   ]
  },
  {
   "cell_type": "code",
   "execution_count": null,
   "id": "0d38d0fa",
   "metadata": {},
   "outputs": [],
   "source": [
    "# generate the raster image\n",
    "import datashader\n",
    "import colorcet"
   ]
  },
  {
   "cell_type": "code",
   "execution_count": null,
   "id": "0432da9a",
   "metadata": {},
   "outputs": [],
   "source": [
    "df = pd.read_csv(\"data/Allen_MERFISH_spots_with_anatomy.csv\")\n",
    "df['datashader'] = np.array([1] * len(df))\n",
    "raster_w = 600\n",
    "raster_h = 600\n",
    "cvs = datashader.Canvas(plot_width=raster_w, plot_height=raster_h)\n",
    "agg = cvs.points(df, x=\"x_um\", y=\"y_um\", agg=datashader.any())\n",
    "# img = datashader.tf.shade(agg)\n",
    "# raster = img.to_numpy()\n",
    "raster = agg.to_numpy()\n",
    "raster = raster.astype(np.float64)\n",
    "raster /= raster.max()\n",
    "raster = np.flipud(raster)\n",
    "# raster = np.log(1 + raster)"
   ]
  },
  {
   "cell_type": "code",
   "execution_count": null,
   "id": "c8986cf9",
   "metadata": {
    "lines_to_next_cell": 2
   },
   "outputs": [],
   "source": [
    "plt.figure()\n",
    "len(df)\n",
    "# plt.hist(raster.flatten())\n",
    "plt.hist(raster)\n",
    "# plt.hist(raster.flatten()[raster.flatten() >1000], bins=1000)\n",
    "plt.show()\n",
    "##\n",
    "plt.figure()\n",
    "plt.imshow(raster)\n",
    "# plt.xlim([400, 600])\n",
    "# plt.ylim([0, 200])\n",
    "plt.show()"
   ]
  },
  {
   "cell_type": "code",
   "execution_count": null,
   "id": "3f9e3006",
   "metadata": {},
   "outputs": [],
   "source": [
    "##\n",
    "plt.figure()\n",
    "plt.imshow(\n",
    "    raster,\n",
    "    extent=(df[\"x_um\"].min(), df[\"x_um\"].max(), df[\"y_um\"].min(), df[\"y_um\"].max()),\n",
    ")\n",
    "plt.scatter(df[\"x_um\"], df[\"y_um\"], s=1, alpha=0.01)\n",
    "plt.show()"
   ]
  },
  {
   "cell_type": "code",
   "execution_count": null,
   "id": "b4eb9a96",
   "metadata": {},
   "outputs": [],
   "source": [
    "##\n",
    "min_x = df[\"x_um\"].min()\n",
    "min_y = df[\"y_um\"].min()\n",
    "max_x = df[\"x_um\"].max()\n",
    "max_y = df[\"y_um\"].max()"
   ]
  },
  {
   "cell_type": "code",
   "execution_count": null,
   "id": "50741bee",
   "metadata": {},
   "outputs": [],
   "source": [
    "raster_bb = BoundingBox()\n",
    "raster_bb.x0 = int((bb.x0 - min_x) / (max_x - min_x) * raster_w)\n",
    "raster_bb.x1 = int((bb.x1 - min_x) / (max_x - min_x) * raster_w)\n",
    "raster_bb.y0 = int((bb.y0 - min_y) / (max_y - min_y) * raster_h)\n",
    "raster_bb.y1 = int((bb.y1 - min_y) / (max_y - min_y) * raster_h)\n",
    "print(\n",
    "    f\"raster_bb.x0 = {raster_bb.x0}, raster_bb.x1 = {raster_bb.x1}, raster_bb.y0 = {raster_bb.y0}, raster_bb.y1 = {raster_bb.y1}\"\n",
    ")"
   ]
  },
  {
   "cell_type": "code",
   "execution_count": null,
   "id": "9eb12307",
   "metadata": {},
   "outputs": [],
   "source": [
    "raster_crop = np.flipud(np.flipud(raster)[raster_bb.y0 : raster_bb.y1, raster_bb.x0 : raster_bb.x1])\n",
    "print(raster_crop.shape)"
   ]
  },
  {
   "cell_type": "code",
   "execution_count": null,
   "id": "b4a03be5",
   "metadata": {},
   "outputs": [],
   "source": [
    "plt.figure()\n",
    "plt.imshow(raster_crop)\n",
    "plt.show()\n",
    "##\n",
    "translation = np.array([bb.x0, bb.y0])\n",
    "# expecting the scale factor to be the same in both axes, and checking this\n",
    "assert bb.x1 - bb.x0 == bb.y1 - bb.y0\n",
    "assert raster_w == raster_h\n",
    "scale_factor = (bb.x1 - bb.x0) / raster_w\n",
    "##\n",
    "np.save(os.path.join(output_dir, 'image.np'), raster_crop)"
   ]
  },
  {
   "cell_type": "code",
   "execution_count": null,
   "id": "a274080e",
   "metadata": {},
   "outputs": [],
   "source": [
    "d = {}\n",
    "d['translation_x'] = float(translation[0])\n",
    "d['translation_y'] = float(translation[1])\n",
    "d['scale_factor'] = scale_factor\n",
    "with open(os.path.join(output_dir, 'image_transform.json'), 'w') as outfile:\n",
    "    json.dump(d, fp=outfile)"
   ]
  },
  {
   "cell_type": "code",
   "execution_count": null,
   "id": "47d9c55d",
   "metadata": {},
   "outputs": [],
   "source": [
    "##\n",
    "print(f\"translation = {translation}, scale_factor = {scale_factor}\")\n",
    "x0 = translation[0]\n",
    "y0 = translation[1]\n",
    "x1 = translation[0] + raster.shape[1] * scale_factor\n",
    "y1 = translation[1] + raster.shape[0] * scale_factor\n",
    "extent = (x0, x1, y0, y1)\n",
    "print(extent)"
   ]
  },
  {
   "cell_type": "code",
   "execution_count": null,
   "id": "dddc57a7",
   "metadata": {
    "lines_to_next_cell": 2
   },
   "outputs": [],
   "source": [
    "plt.figure()\n",
    "plt.imshow(raster_crop, extent=extent)\n",
    "plt.show()\n",
    "##"
   ]
  },
  {
   "cell_type": "code",
   "execution_count": null,
   "id": "80054c37",
   "metadata": {},
   "outputs": [],
   "source": [
    "# first translation, then scaling\n",
    "def plot_raster(\n",
    "    raster: np.ndarray, translation: np.array, scale_factor: float, ax=None\n",
    "):\n",
    "    assert len(translation) == 2\n",
    "    # grayscale image or rgb/rgba\n",
    "    assert (\n",
    "        len(raster.shape) == 2 or len(raster.shape) == 3 and raster.shape[2] in [3, 4]\n",
    "    )\n",
    "    if ax is None:\n",
    "        plt.figure(figsize=(10, 10))\n",
    "        cax = plt.gca()\n",
    "    else:\n",
    "        cax = ax\n",
    "    x0 = translation[0]\n",
    "    y0 = translation[1]\n",
    "    x1 = translation[0] + raster.shape[1] * scale_factor\n",
    "    y1 = translation[1] + raster.shape[0] * scale_factor\n",
    "    extent = (x0, x1, y0, y1)\n",
    "    cax.imshow(raster_crop, extent=extent, cmap=plt.cm.get_cmap('gray'), alpha=0.4)\n",
    "    if ax is None:\n",
    "        plt.show()"
   ]
  },
  {
   "cell_type": "code",
   "execution_count": null,
   "id": "11e29ed9",
   "metadata": {},
   "outputs": [],
   "source": [
    "plot_raster(raster, translation=translation, scale_factor=scale_factor)\n",
    "##\n",
    "# polygon information\n",
    "layers = json.load(open('data/Allen_MERFISH_Layers.geojson', 'r'))\n",
    "layers"
   ]
  },
  {
   "cell_type": "code",
   "execution_count": null,
   "id": "4abca6d4",
   "metadata": {},
   "outputs": [],
   "source": [
    "##\n",
    "plt.figure(figsize=(10, 10))\n",
    "ax = plt.gca()\n",
    "plot_single_molecule_anndata(a_points, ax)\n",
    "plot_shape_masks_anndata(a_cells, ax)\n",
    "plot_raster(raster, translation=translation, scale_factor=scale_factor, ax=ax)\n",
    "plt.show()"
   ]
  },
  {
   "cell_type": "code",
   "execution_count": null,
   "id": "539991b3",
   "metadata": {},
   "outputs": [],
   "source": [
    "##\n",
    "brain_layers = {}\n",
    "for layer in layers['geometries']:\n",
    "    name = layer['name']\n",
    "    coordinates = np.array(layer['coordinates'])\n",
    "    coordinates = np.squeeze(coordinates, 0)\n",
    "    brain_layers[name] = coordinates"
   ]
  },
  {
   "cell_type": "code",
   "execution_count": null,
   "id": "73f3a93e",
   "metadata": {},
   "outputs": [],
   "source": [
    "##\n",
    "plt.figure()\n",
    "for layer, coordinates in brain_layers.items():\n",
    "    plt.plot(coordinates[:, 0], coordinates[:, 1])\n",
    "plt.gca().set_aspect('equal')\n",
    "plt.legend([layer for layer in brain_layers.keys()], loc='upper center', bbox_to_anchor=(.5, 1.25), ncol=3)\n",
    "plt.tight_layout()\n",
    "plt.show()"
   ]
  },
  {
   "cell_type": "markdown",
   "id": "4f7071ee",
   "metadata": {},
   "source": [
    "#"
   ]
  }
 ],
 "metadata": {
  "jupytext": {
   "cell_metadata_filter": "-all",
   "main_language": "python",
   "notebook_metadata_filter": "-all"
  },
  "kernelspec": {
   "display_name": "39",
   "language": "python",
   "name": "39"
  },
  "language_info": {
   "codemirror_mode": {
    "name": "ipython",
    "version": 3
   },
   "file_extension": ".py",
   "mimetype": "text/x-python",
   "name": "python",
   "nbconvert_exporter": "python",
   "pygments_lexer": "ipython3",
   "version": "3.7.7"
  }
 },
 "nbformat": 4,
 "nbformat_minor": 5
}
