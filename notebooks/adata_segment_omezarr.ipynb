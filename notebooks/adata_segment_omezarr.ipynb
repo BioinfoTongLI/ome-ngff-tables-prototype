{
 "cells": [
  {
   "cell_type": "code",
   "execution_count": 1,
   "id": "0d5f5e71-6d73-476b-bfeb-2a07443b2749",
   "metadata": {},
   "outputs": [],
   "source": [
    "import squidpy as sq\n",
    "from ngff_tables_prototype.writer import write_spatial_anndata\n",
    "import numpy as np\n",
    "\n",
    "%load_ext autoreload\n",
    "%autoreload 2\n",
    "# %load_ext lab_black"
   ]
  },
  {
   "cell_type": "code",
   "execution_count": 2,
   "id": "b880fe1b-c3da-4541-8735-9b360580a6f9",
   "metadata": {},
   "outputs": [
    {
     "data": {
      "text/plain": [
       "dict_keys(['hires', 'segmentation'])"
      ]
     },
     "execution_count": 2,
     "metadata": {},
     "output_type": "execute_result"
    }
   ],
   "source": [
    "adata = sq.datasets.mibitof()\n",
    "lib_id = \"point8\"\n",
    "spatial_key = \"spatial\"\n",
    "adata = adata[adata.obs.library_id == lib_id].copy()\n",
    "adata.uns[spatial_key][lib_id][\"images\"].keys()"
   ]
  },
  {
   "cell_type": "code",
   "execution_count": 3,
   "id": "e1197ea0-ed84-4bc7-8f5c-f8631c62d0f3",
   "metadata": {},
   "outputs": [],
   "source": [
    "adata.X = adata.X.A.copy()"
   ]
  },
  {
   "cell_type": "code",
   "execution_count": 4,
   "id": "f075ac8f-e4c2-4928-884f-99c50d969780",
   "metadata": {},
   "outputs": [
    {
     "name": "stderr",
     "output_type": "stream",
     "text": [
      "/Users/giovanni.palla/miniconda3/envs/squidpy/lib/python3.8/site-packages/zarr/creation.py:226: UserWarning: ignoring keyword argument 'maxshape'\n",
      "  warn('ignoring keyword argument %r' % k)\n"
     ]
    }
   ],
   "source": [
    "write_spatial_anndata(\n",
    "    file_path=\"test_segment.zarr\",\n",
    "    image_axes=[\"c\", \"y\", \"x\"],\n",
    "    image=np.swapaxes(adata.uns[spatial_key][lib_id][\"images\"][\"hires\"], 2, 0),\n",
    "    label_image=adata.uns[spatial_key][lib_id][\"images\"][\"segmentation\"],\n",
    "    adata=adata,\n",
    ")"
   ]
  },
  {
   "cell_type": "code",
   "execution_count": 5,
   "id": "92ca9218-b340-494e-939e-c654d76eec4f",
   "metadata": {},
   "outputs": [
    {
     "ename": "NameError",
     "evalue": "name 'mibi' is not defined",
     "output_type": "error",
     "traceback": [
      "\u001b[0;31m---------------------------------------------------------------------------\u001b[0m",
      "\u001b[0;31mNameError\u001b[0m                                 Traceback (most recent call last)",
      "\u001b[0;32m/var/folders/3t/lc9m5zv966934dq4d6gf6l60g_dj6h/T/ipykernel_20867/2089073090.py\u001b[0m in \u001b[0;36m<module>\u001b[0;34m\u001b[0m\n\u001b[1;32m      1\u001b[0m sq.pl.spatial_segment(\n\u001b[0;32m----> 2\u001b[0;31m     \u001b[0mmibi\u001b[0m\u001b[0;34m,\u001b[0m\u001b[0;34m\u001b[0m\u001b[0;34m\u001b[0m\u001b[0m\n\u001b[0m\u001b[1;32m      3\u001b[0m     \u001b[0mseg_cell_id\u001b[0m\u001b[0;34m=\u001b[0m\u001b[0;34m\"cell_id\"\u001b[0m\u001b[0;34m,\u001b[0m\u001b[0;34m\u001b[0m\u001b[0;34m\u001b[0m\u001b[0m\n\u001b[1;32m      4\u001b[0m     \u001b[0mlibrary_key\u001b[0m\u001b[0;34m=\u001b[0m\u001b[0;34m\"library_id\"\u001b[0m\u001b[0;34m,\u001b[0m\u001b[0;34m\u001b[0m\u001b[0;34m\u001b[0m\u001b[0m\n\u001b[1;32m      5\u001b[0m     \u001b[0mcolor\u001b[0m\u001b[0;34m=\u001b[0m\u001b[0;34m\"Cluster\"\u001b[0m\u001b[0;34m,\u001b[0m\u001b[0;34m\u001b[0m\u001b[0;34m\u001b[0m\u001b[0m\n",
      "\u001b[0;31mNameError\u001b[0m: name 'mibi' is not defined"
     ]
    }
   ],
   "source": [
    "sq.pl.spatial_segment(\n",
    "    mibi,\n",
    "    seg_cell_id=\"cell_id\",\n",
    "    library_key=\"library_id\",\n",
    "    color=\"Cluster\",\n",
    "    library_id=\"point8\",\n",
    ")"
   ]
  }
 ],
 "metadata": {
  "kernelspec": {
   "display_name": "Python 3 (ipykernel)",
   "language": "python",
   "name": "python3"
  },
  "language_info": {
   "codemirror_mode": {
    "name": "ipython",
    "version": 3
   },
   "file_extension": ".py",
   "mimetype": "text/x-python",
   "name": "python",
   "nbconvert_exporter": "python",
   "pygments_lexer": "ipython3",
   "version": "3.8.10"
  }
 },
 "nbformat": 4,
 "nbformat_minor": 5
}
